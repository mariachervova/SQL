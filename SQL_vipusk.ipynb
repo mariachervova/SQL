{
 "cells": [
  {
   "cell_type": "markdown",
   "metadata": {},
   "source": [
    "SQL"
   ]
  },
  {
   "cell_type": "markdown",
   "metadata": {},
   "source": [
    "**Цель работы** — проанализировать базу данных крупного сервиса для чтения книг по подписке, содержащую информация о книгах, издательствах, авторах, а также пользовательские обзоры книг. Эти данные помогут сформулировать ценностное предложение для нового продукта.\n",
    "\n",
    "Для этого необходимо решить следующие задачи:\n",
    "\n",
    "- Посчитать, сколько книг вышло после 1 января 2000 года;\n",
    "- Для каждой книги посчитайте количество обзоров и среднюю оценку;\n",
    "- Определите издательство, которое выпустило наибольшее число книг толще 50 страниц — так вы исключите из анализа брошюры;\n",
    "- Определите автора с самой высокой средней оценкой книг — учитывайте только книги с 50 и более оценками;\n",
    "- Посчитайте среднее количество обзоров от пользователей, которые поставили больше 50 оценок.\n"
   ]
  },
  {
   "cell_type": "markdown",
   "metadata": {},
   "source": [
    "<a id = 'section1'></a>\n",
    "# Оглавление проекта"
   ]
  },
  {
   "cell_type": "markdown",
   "metadata": {},
   "source": [
    "<a class=\"ancor\" id=\"step_0\"></a>\n",
    "* [Исследование таблиц](#step_1)\n",
    "* [ЗАДАНИЯ](#step_2)\n",
    " * [1  Посчитайте, сколько книг вышло после 1 января 2000 года](#step_3)\n",
    " * [2  Для каждой книги посчитайте количество обзоров и среднюю оценку](#step_4)\n",
    " * [3  Определите издательство, которое выпустило наибольшее число книг толще 50 страниц — так вы исключите из анализа брошюры](#step_5)\n",
    " * [4  Определите автора с самой высокой средней оценкой книг — учитывайте только книги с 50 и более оценками](#step_6)\n",
    " * [5  Посчитайте среднее количество обзоров от пользователей, которые поставили больше 50 оценок](#step_7)"
   ]
  },
  {
   "cell_type": "markdown",
   "metadata": {},
   "source": [
    "<a class=\"ancor\" id=\"step_1\"></a>\n",
    "# Исследование таблиц"
   ]
  },
  {
   "cell_type": "code",
   "execution_count": 1,
   "metadata": {},
   "outputs": [],
   "source": [
    "import pandas as pd\n",
    "from sqlalchemy import create_engine"
   ]
  },
  {
   "cell_type": "code",
   "execution_count": 2,
   "metadata": {},
   "outputs": [],
   "source": [
    "db_config = {'user': 'praktikum_student', # имя пользователя\n",
    "            'pwd': 'Sdf4$2;d-d30pp', # пароль\n",
    "            'host': 'rc1b-wcoijxj3yxfsf3fs.mdb.yandexcloud.net',\n",
    "            'port': 6432, # порт подключения\n",
    "            'db': 'data-analyst-final-project-db'} # название базы данных\n",
    "connection_string = 'postgresql://{}:{}@{}:{}/{}'.format(db_config['user'],\n",
    "                                                db_config['pwd'],\n",
    "                                                db_config['host'],\n",
    "                                                db_config['port'],\n",
    "                                                db_config['db'])\n",
    "\n",
    "# сохраняем коннектор\n",
    "engine = create_engine(connection_string, connect_args={'sslmode':'require'})"
   ]
  },
  {
   "cell_type": "code",
   "execution_count": 3,
   "metadata": {},
   "outputs": [
    {
     "name": "stdout",
     "output_type": "stream",
     "text": [
      "Defaulting to user installation because normal site-packages is not writeable\n",
      "Requirement already satisfied: psycopg2-binary in /opt/conda/lib/python3.7/site-packages (2.8.4)\n"
     ]
    }
   ],
   "source": [
    "!pip3 install psycopg2-binary"
   ]
  },
  {
   "cell_type": "markdown",
   "metadata": {},
   "source": [
    "<a href = '#section1'>Вернуться к оглавлению</a>\n",
    "</div>"
   ]
  },
  {
   "cell_type": "code",
   "execution_count": 4,
   "metadata": {},
   "outputs": [
    {
     "data": {
      "text/html": [
       "<div>\n",
       "<style scoped>\n",
       "    .dataframe tbody tr th:only-of-type {\n",
       "        vertical-align: middle;\n",
       "    }\n",
       "\n",
       "    .dataframe tbody tr th {\n",
       "        vertical-align: top;\n",
       "    }\n",
       "\n",
       "    .dataframe thead th {\n",
       "        text-align: right;\n",
       "    }\n",
       "</style>\n",
       "<table border=\"1\" class=\"dataframe\">\n",
       "  <thead>\n",
       "    <tr style=\"text-align: right;\">\n",
       "      <th></th>\n",
       "      <th>book_id</th>\n",
       "      <th>author_id</th>\n",
       "      <th>title</th>\n",
       "      <th>num_pages</th>\n",
       "      <th>publication_date</th>\n",
       "      <th>publisher_id</th>\n",
       "    </tr>\n",
       "  </thead>\n",
       "  <tbody>\n",
       "    <tr>\n",
       "      <td>0</td>\n",
       "      <td>1</td>\n",
       "      <td>546</td>\n",
       "      <td>'Salem's Lot</td>\n",
       "      <td>594</td>\n",
       "      <td>2005-11-01</td>\n",
       "      <td>93</td>\n",
       "    </tr>\n",
       "    <tr>\n",
       "      <td>1</td>\n",
       "      <td>2</td>\n",
       "      <td>465</td>\n",
       "      <td>1 000 Places to See Before You Die</td>\n",
       "      <td>992</td>\n",
       "      <td>2003-05-22</td>\n",
       "      <td>336</td>\n",
       "    </tr>\n",
       "    <tr>\n",
       "      <td>2</td>\n",
       "      <td>3</td>\n",
       "      <td>407</td>\n",
       "      <td>13 Little Blue Envelopes (Little Blue Envelope...</td>\n",
       "      <td>322</td>\n",
       "      <td>2010-12-21</td>\n",
       "      <td>135</td>\n",
       "    </tr>\n",
       "    <tr>\n",
       "      <td>3</td>\n",
       "      <td>4</td>\n",
       "      <td>82</td>\n",
       "      <td>1491: New Revelations of the Americas Before C...</td>\n",
       "      <td>541</td>\n",
       "      <td>2006-10-10</td>\n",
       "      <td>309</td>\n",
       "    </tr>\n",
       "    <tr>\n",
       "      <td>4</td>\n",
       "      <td>5</td>\n",
       "      <td>125</td>\n",
       "      <td>1776</td>\n",
       "      <td>386</td>\n",
       "      <td>2006-07-04</td>\n",
       "      <td>268</td>\n",
       "    </tr>\n",
       "  </tbody>\n",
       "</table>\n",
       "</div>"
      ],
      "text/plain": [
       "   book_id  author_id                                              title  \\\n",
       "0        1        546                                       'Salem's Lot   \n",
       "1        2        465                 1 000 Places to See Before You Die   \n",
       "2        3        407  13 Little Blue Envelopes (Little Blue Envelope...   \n",
       "3        4         82  1491: New Revelations of the Americas Before C...   \n",
       "4        5        125                                               1776   \n",
       "\n",
       "   num_pages publication_date  publisher_id  \n",
       "0        594       2005-11-01            93  \n",
       "1        992       2003-05-22           336  \n",
       "2        322       2010-12-21           135  \n",
       "3        541       2006-10-10           309  \n",
       "4        386       2006-07-04           268  "
      ]
     },
     "execution_count": 4,
     "metadata": {},
     "output_type": "execute_result"
    }
   ],
   "source": [
    "books = ''' SELECT\n",
    "                  * \n",
    "                FROM books\n",
    "            LIMIT 5;   \n",
    "            '''\n",
    "pd.io.sql.read_sql(books, con = engine)"
   ]
  },
  {
   "cell_type": "markdown",
   "metadata": {},
   "source": [
    "Содержит данные о книгах:                                                                                         \n",
    "book_id — идентификатор книги;                                                                                     \n",
    "author_id — идентификатор автора;                                                                                 \n",
    "title — название книги;                                                                                           \n",
    "num_pages — количество страниц;                                                                                   \n",
    "publication_date — дата публикации книги;                                                                         \n",
    "publisher_id — идентификатор издателя. "
   ]
  },
  {
   "cell_type": "code",
   "execution_count": 5,
   "metadata": {},
   "outputs": [
    {
     "data": {
      "text/html": [
       "<div>\n",
       "<style scoped>\n",
       "    .dataframe tbody tr th:only-of-type {\n",
       "        vertical-align: middle;\n",
       "    }\n",
       "\n",
       "    .dataframe tbody tr th {\n",
       "        vertical-align: top;\n",
       "    }\n",
       "\n",
       "    .dataframe thead th {\n",
       "        text-align: right;\n",
       "    }\n",
       "</style>\n",
       "<table border=\"1\" class=\"dataframe\">\n",
       "  <thead>\n",
       "    <tr style=\"text-align: right;\">\n",
       "      <th></th>\n",
       "      <th>author_id</th>\n",
       "      <th>author</th>\n",
       "    </tr>\n",
       "  </thead>\n",
       "  <tbody>\n",
       "    <tr>\n",
       "      <td>0</td>\n",
       "      <td>1</td>\n",
       "      <td>A.S. Byatt</td>\n",
       "    </tr>\n",
       "    <tr>\n",
       "      <td>1</td>\n",
       "      <td>2</td>\n",
       "      <td>Aesop/Laura Harris/Laura Gibbs</td>\n",
       "    </tr>\n",
       "    <tr>\n",
       "      <td>2</td>\n",
       "      <td>3</td>\n",
       "      <td>Agatha Christie</td>\n",
       "    </tr>\n",
       "    <tr>\n",
       "      <td>3</td>\n",
       "      <td>4</td>\n",
       "      <td>Alan Brennert</td>\n",
       "    </tr>\n",
       "    <tr>\n",
       "      <td>4</td>\n",
       "      <td>5</td>\n",
       "      <td>Alan Moore/David   Lloyd</td>\n",
       "    </tr>\n",
       "  </tbody>\n",
       "</table>\n",
       "</div>"
      ],
      "text/plain": [
       "   author_id                          author\n",
       "0          1                      A.S. Byatt\n",
       "1          2  Aesop/Laura Harris/Laura Gibbs\n",
       "2          3                 Agatha Christie\n",
       "3          4                   Alan Brennert\n",
       "4          5        Alan Moore/David   Lloyd"
      ]
     },
     "execution_count": 5,
     "metadata": {},
     "output_type": "execute_result"
    }
   ],
   "source": [
    "authors = ''' SELECT * \n",
    "            FROM authors\n",
    "            LIMIT 5;  \n",
    "            '''\n",
    "pd.io.sql.read_sql(authors, con = engine)"
   ]
  },
  {
   "cell_type": "markdown",
   "metadata": {},
   "source": [
    "Содержит данные об авторах:                                                                                       \n",
    "author_id — идентификатор автора;                                                                                 \n",
    "author — имя автора.                                                                                               "
   ]
  },
  {
   "cell_type": "code",
   "execution_count": 6,
   "metadata": {},
   "outputs": [
    {
     "data": {
      "text/html": [
       "<div>\n",
       "<style scoped>\n",
       "    .dataframe tbody tr th:only-of-type {\n",
       "        vertical-align: middle;\n",
       "    }\n",
       "\n",
       "    .dataframe tbody tr th {\n",
       "        vertical-align: top;\n",
       "    }\n",
       "\n",
       "    .dataframe thead th {\n",
       "        text-align: right;\n",
       "    }\n",
       "</style>\n",
       "<table border=\"1\" class=\"dataframe\">\n",
       "  <thead>\n",
       "    <tr style=\"text-align: right;\">\n",
       "      <th></th>\n",
       "      <th>publisher_id</th>\n",
       "      <th>publisher</th>\n",
       "    </tr>\n",
       "  </thead>\n",
       "  <tbody>\n",
       "    <tr>\n",
       "      <td>0</td>\n",
       "      <td>1</td>\n",
       "      <td>Ace</td>\n",
       "    </tr>\n",
       "    <tr>\n",
       "      <td>1</td>\n",
       "      <td>2</td>\n",
       "      <td>Ace Book</td>\n",
       "    </tr>\n",
       "    <tr>\n",
       "      <td>2</td>\n",
       "      <td>3</td>\n",
       "      <td>Ace Books</td>\n",
       "    </tr>\n",
       "    <tr>\n",
       "      <td>3</td>\n",
       "      <td>4</td>\n",
       "      <td>Ace Hardcover</td>\n",
       "    </tr>\n",
       "    <tr>\n",
       "      <td>4</td>\n",
       "      <td>5</td>\n",
       "      <td>Addison Wesley Publishing Company</td>\n",
       "    </tr>\n",
       "  </tbody>\n",
       "</table>\n",
       "</div>"
      ],
      "text/plain": [
       "   publisher_id                          publisher\n",
       "0             1                                Ace\n",
       "1             2                           Ace Book\n",
       "2             3                          Ace Books\n",
       "3             4                      Ace Hardcover\n",
       "4             5  Addison Wesley Publishing Company"
      ]
     },
     "execution_count": 6,
     "metadata": {},
     "output_type": "execute_result"
    }
   ],
   "source": [
    "publishers = ''' SELECT * \n",
    "            FROM publishers\n",
    "            LIMIT 5;  \n",
    "            '''\n",
    "pd.io.sql.read_sql(publishers, con = engine)"
   ]
  },
  {
   "cell_type": "markdown",
   "metadata": {},
   "source": [
    "Содержит данные об издательствах:                                                                                         \n",
    "publisher_id — идентификатор издательства;                                                                                \n",
    "publisher — название издательства."
   ]
  },
  {
   "cell_type": "code",
   "execution_count": 7,
   "metadata": {},
   "outputs": [
    {
     "data": {
      "text/html": [
       "<div>\n",
       "<style scoped>\n",
       "    .dataframe tbody tr th:only-of-type {\n",
       "        vertical-align: middle;\n",
       "    }\n",
       "\n",
       "    .dataframe tbody tr th {\n",
       "        vertical-align: top;\n",
       "    }\n",
       "\n",
       "    .dataframe thead th {\n",
       "        text-align: right;\n",
       "    }\n",
       "</style>\n",
       "<table border=\"1\" class=\"dataframe\">\n",
       "  <thead>\n",
       "    <tr style=\"text-align: right;\">\n",
       "      <th></th>\n",
       "      <th>rating_id</th>\n",
       "      <th>book_id</th>\n",
       "      <th>username</th>\n",
       "      <th>rating</th>\n",
       "    </tr>\n",
       "  </thead>\n",
       "  <tbody>\n",
       "    <tr>\n",
       "      <td>0</td>\n",
       "      <td>1</td>\n",
       "      <td>1</td>\n",
       "      <td>ryanfranco</td>\n",
       "      <td>4</td>\n",
       "    </tr>\n",
       "    <tr>\n",
       "      <td>1</td>\n",
       "      <td>2</td>\n",
       "      <td>1</td>\n",
       "      <td>grantpatricia</td>\n",
       "      <td>2</td>\n",
       "    </tr>\n",
       "    <tr>\n",
       "      <td>2</td>\n",
       "      <td>3</td>\n",
       "      <td>1</td>\n",
       "      <td>brandtandrea</td>\n",
       "      <td>5</td>\n",
       "    </tr>\n",
       "    <tr>\n",
       "      <td>3</td>\n",
       "      <td>4</td>\n",
       "      <td>2</td>\n",
       "      <td>lorichen</td>\n",
       "      <td>3</td>\n",
       "    </tr>\n",
       "    <tr>\n",
       "      <td>4</td>\n",
       "      <td>5</td>\n",
       "      <td>2</td>\n",
       "      <td>mariokeller</td>\n",
       "      <td>2</td>\n",
       "    </tr>\n",
       "  </tbody>\n",
       "</table>\n",
       "</div>"
      ],
      "text/plain": [
       "   rating_id  book_id       username  rating\n",
       "0          1        1     ryanfranco       4\n",
       "1          2        1  grantpatricia       2\n",
       "2          3        1   brandtandrea       5\n",
       "3          4        2       lorichen       3\n",
       "4          5        2    mariokeller       2"
      ]
     },
     "execution_count": 7,
     "metadata": {},
     "output_type": "execute_result"
    }
   ],
   "source": [
    "ratings = ''' SELECT * \n",
    "            FROM ratings\n",
    "            LIMIT 5;  \n",
    "            '''\n",
    "pd.io.sql.read_sql(ratings, con = engine)"
   ]
  },
  {
   "cell_type": "markdown",
   "metadata": {},
   "source": [
    "Содержит данные о пользовательских оценках книг:                                                                           \n",
    "rating_id — идентификатор оценки;                                                                                         \n",
    "book_id — идентификатор книги;                                                                                             \n",
    "username — имя пользователя, оставившего оценку;                                                                          \n",
    "rating — оценка книги."
   ]
  },
  {
   "cell_type": "code",
   "execution_count": 8,
   "metadata": {},
   "outputs": [
    {
     "data": {
      "text/html": [
       "<div>\n",
       "<style scoped>\n",
       "    .dataframe tbody tr th:only-of-type {\n",
       "        vertical-align: middle;\n",
       "    }\n",
       "\n",
       "    .dataframe tbody tr th {\n",
       "        vertical-align: top;\n",
       "    }\n",
       "\n",
       "    .dataframe thead th {\n",
       "        text-align: right;\n",
       "    }\n",
       "</style>\n",
       "<table border=\"1\" class=\"dataframe\">\n",
       "  <thead>\n",
       "    <tr style=\"text-align: right;\">\n",
       "      <th></th>\n",
       "      <th>review_id</th>\n",
       "      <th>book_id</th>\n",
       "      <th>username</th>\n",
       "      <th>text</th>\n",
       "    </tr>\n",
       "  </thead>\n",
       "  <tbody>\n",
       "    <tr>\n",
       "      <td>0</td>\n",
       "      <td>1</td>\n",
       "      <td>1</td>\n",
       "      <td>brandtandrea</td>\n",
       "      <td>Mention society tell send professor analysis. ...</td>\n",
       "    </tr>\n",
       "    <tr>\n",
       "      <td>1</td>\n",
       "      <td>2</td>\n",
       "      <td>1</td>\n",
       "      <td>ryanfranco</td>\n",
       "      <td>Foot glass pretty audience hit themselves. Amo...</td>\n",
       "    </tr>\n",
       "    <tr>\n",
       "      <td>2</td>\n",
       "      <td>3</td>\n",
       "      <td>2</td>\n",
       "      <td>lorichen</td>\n",
       "      <td>Listen treat keep worry. Miss husband tax but ...</td>\n",
       "    </tr>\n",
       "    <tr>\n",
       "      <td>3</td>\n",
       "      <td>4</td>\n",
       "      <td>3</td>\n",
       "      <td>johnsonamanda</td>\n",
       "      <td>Finally month interesting blue could nature cu...</td>\n",
       "    </tr>\n",
       "    <tr>\n",
       "      <td>4</td>\n",
       "      <td>5</td>\n",
       "      <td>3</td>\n",
       "      <td>scotttamara</td>\n",
       "      <td>Nation purpose heavy give wait song will. List...</td>\n",
       "    </tr>\n",
       "  </tbody>\n",
       "</table>\n",
       "</div>"
      ],
      "text/plain": [
       "   review_id  book_id       username  \\\n",
       "0          1        1   brandtandrea   \n",
       "1          2        1     ryanfranco   \n",
       "2          3        2       lorichen   \n",
       "3          4        3  johnsonamanda   \n",
       "4          5        3    scotttamara   \n",
       "\n",
       "                                                text  \n",
       "0  Mention society tell send professor analysis. ...  \n",
       "1  Foot glass pretty audience hit themselves. Amo...  \n",
       "2  Listen treat keep worry. Miss husband tax but ...  \n",
       "3  Finally month interesting blue could nature cu...  \n",
       "4  Nation purpose heavy give wait song will. List...  "
      ]
     },
     "execution_count": 8,
     "metadata": {},
     "output_type": "execute_result"
    }
   ],
   "source": [
    "reviews = ''' SELECT * \n",
    "            FROM reviews\n",
    "            LIMIT 5;  \n",
    "            '''\n",
    "pd.io.sql.read_sql(reviews, con = engine)"
   ]
  },
  {
   "cell_type": "markdown",
   "metadata": {},
   "source": [
    "Содержит данные о пользовательских обзорах на книги:                                                               \n",
    "review_id — идентификатор обзора;                                                                                \n",
    "book_id — идентификатор книги;                                                                                    \n",
    "username — имя пользователя, написавшего обзор;                                                                   \n",
    "text — текст обзора."
   ]
  },
  {
   "cell_type": "markdown",
   "metadata": {},
   "source": [
    "ВЫВОД:  \n",
    "\n",
    "Выведены первые строки  таблиц и изучены данные в них"
   ]
  },
  {
   "cell_type": "markdown",
   "metadata": {},
   "source": [
    "<a href = '#section1'>Вернуться к оглавлению</a>\n",
    "</div>"
   ]
  },
  {
   "cell_type": "markdown",
   "metadata": {},
   "source": [
    "<a class=\"ancor\" id=\"step_2\"></a>\n",
    "# ЗАДАНИЯ"
   ]
  },
  {
   "cell_type": "markdown",
   "metadata": {},
   "source": [
    "<a class=\"ancor\" id=\"step_3\"></a>\n",
    "## Посчитайте, сколько книг вышло после 1 января 2000 года"
   ]
  },
  {
   "cell_type": "code",
   "execution_count": 9,
   "metadata": {},
   "outputs": [
    {
     "data": {
      "text/html": [
       "<div>\n",
       "<style scoped>\n",
       "    .dataframe tbody tr th:only-of-type {\n",
       "        vertical-align: middle;\n",
       "    }\n",
       "\n",
       "    .dataframe tbody tr th {\n",
       "        vertical-align: top;\n",
       "    }\n",
       "\n",
       "    .dataframe thead th {\n",
       "        text-align: right;\n",
       "    }\n",
       "</style>\n",
       "<table border=\"1\" class=\"dataframe\">\n",
       "  <thead>\n",
       "    <tr style=\"text-align: right;\">\n",
       "      <th></th>\n",
       "      <th>count</th>\n",
       "    </tr>\n",
       "  </thead>\n",
       "  <tbody>\n",
       "    <tr>\n",
       "      <td>0</td>\n",
       "      <td>821</td>\n",
       "    </tr>\n",
       "  </tbody>\n",
       "</table>\n",
       "</div>"
      ],
      "text/plain": [
       "   count\n",
       "0    821"
      ]
     },
     "execution_count": 9,
     "metadata": {},
     "output_type": "execute_result"
    }
   ],
   "source": [
    "query_1 = ''' SELECT \n",
    "                  COUNT (DISTINCT book_id) AS count\n",
    "              FROM \n",
    "                  books \n",
    "              WHERE \n",
    "                  publication_date >= '2000-01-01';\n",
    "          '''\n",
    "pd.io.sql.read_sql(query_1, con = engine)"
   ]
  },
  {
   "cell_type": "markdown",
   "metadata": {},
   "source": [
    "ВЫВОД:\n",
    "\n",
    "После 1 января 2000 вышлa 821 книга\n"
   ]
  },
  {
   "cell_type": "markdown",
   "metadata": {},
   "source": [
    "<a href = '#section1'>Вернуться к оглавлению</a>\n",
    "</div>"
   ]
  },
  {
   "cell_type": "markdown",
   "metadata": {},
   "source": [
    "<a class=\"ancor\" id=\"step_4\"></a>\n",
    "## Для каждой книги посчитайте количество обзоров и среднюю оценку"
   ]
  },
  {
   "cell_type": "code",
   "execution_count": 10,
   "metadata": {},
   "outputs": [
    {
     "data": {
      "text/html": [
       "<div>\n",
       "<style scoped>\n",
       "    .dataframe tbody tr th:only-of-type {\n",
       "        vertical-align: middle;\n",
       "    }\n",
       "\n",
       "    .dataframe tbody tr th {\n",
       "        vertical-align: top;\n",
       "    }\n",
       "\n",
       "    .dataframe thead th {\n",
       "        text-align: right;\n",
       "    }\n",
       "</style>\n",
       "<table border=\"1\" class=\"dataframe\">\n",
       "  <thead>\n",
       "    <tr style=\"text-align: right;\">\n",
       "      <th></th>\n",
       "      <th>book_id</th>\n",
       "      <th>title</th>\n",
       "      <th>author</th>\n",
       "      <th>rating</th>\n",
       "      <th>reviews_count</th>\n",
       "    </tr>\n",
       "  </thead>\n",
       "  <tbody>\n",
       "    <tr>\n",
       "      <td>0</td>\n",
       "      <td>3</td>\n",
       "      <td>13 Little Blue Envelopes (Little Blue Envelope...</td>\n",
       "      <td>Maureen Johnson</td>\n",
       "      <td>4.666667</td>\n",
       "      <td>3.0</td>\n",
       "    </tr>\n",
       "    <tr>\n",
       "      <td>1</td>\n",
       "      <td>821</td>\n",
       "      <td>The Pelican Brief</td>\n",
       "      <td>John Grisham</td>\n",
       "      <td>4.000000</td>\n",
       "      <td>3.0</td>\n",
       "    </tr>\n",
       "    <tr>\n",
       "      <td>2</td>\n",
       "      <td>836</td>\n",
       "      <td>The Prince of Tides</td>\n",
       "      <td>Pat Conroy</td>\n",
       "      <td>4.142857</td>\n",
       "      <td>3.0</td>\n",
       "    </tr>\n",
       "    <tr>\n",
       "      <td>3</td>\n",
       "      <td>904</td>\n",
       "      <td>The Waste Land</td>\n",
       "      <td>T.S. Eliot/Michael North</td>\n",
       "      <td>3.500000</td>\n",
       "      <td>2.0</td>\n",
       "    </tr>\n",
       "    <tr>\n",
       "      <td>4</td>\n",
       "      <td>470</td>\n",
       "      <td>Neither Here nor There: Travels in Europe</td>\n",
       "      <td>Bill Bryson</td>\n",
       "      <td>2.500000</td>\n",
       "      <td>2.0</td>\n",
       "    </tr>\n",
       "    <tr>\n",
       "      <td>...</td>\n",
       "      <td>...</td>\n",
       "      <td>...</td>\n",
       "      <td>...</td>\n",
       "      <td>...</td>\n",
       "      <td>...</td>\n",
       "    </tr>\n",
       "    <tr>\n",
       "      <td>995</td>\n",
       "      <td>972</td>\n",
       "      <td>Wherever You Go  There You Are: Mindfulness Me...</td>\n",
       "      <td>Jon Kabat-Zinn</td>\n",
       "      <td>5.000000</td>\n",
       "      <td>2.0</td>\n",
       "    </tr>\n",
       "    <tr>\n",
       "      <td>996</td>\n",
       "      <td>929</td>\n",
       "      <td>Thunderstruck</td>\n",
       "      <td>Erik Larson</td>\n",
       "      <td>2.500000</td>\n",
       "      <td>2.0</td>\n",
       "    </tr>\n",
       "    <tr>\n",
       "      <td>997</td>\n",
       "      <td>856</td>\n",
       "      <td>The Robber Bride</td>\n",
       "      <td>Margaret Atwood</td>\n",
       "      <td>4.000000</td>\n",
       "      <td>2.0</td>\n",
       "    </tr>\n",
       "    <tr>\n",
       "      <td>998</td>\n",
       "      <td>46</td>\n",
       "      <td>A Scanner Darkly</td>\n",
       "      <td>Philip K. Dick</td>\n",
       "      <td>3.666667</td>\n",
       "      <td>3.0</td>\n",
       "    </tr>\n",
       "    <tr>\n",
       "      <td>999</td>\n",
       "      <td>885</td>\n",
       "      <td>The Tipping Point: How Little Things Can Make ...</td>\n",
       "      <td>Malcolm Gladwell</td>\n",
       "      <td>3.818182</td>\n",
       "      <td>5.0</td>\n",
       "    </tr>\n",
       "  </tbody>\n",
       "</table>\n",
       "<p>1000 rows × 5 columns</p>\n",
       "</div>"
      ],
      "text/plain": [
       "     book_id                                              title  \\\n",
       "0          3  13 Little Blue Envelopes (Little Blue Envelope...   \n",
       "1        821                                  The Pelican Brief   \n",
       "2        836                                The Prince of Tides   \n",
       "3        904                                     The Waste Land   \n",
       "4        470          Neither Here nor There: Travels in Europe   \n",
       "..       ...                                                ...   \n",
       "995      972  Wherever You Go  There You Are: Mindfulness Me...   \n",
       "996      929                                      Thunderstruck   \n",
       "997      856                                   The Robber Bride   \n",
       "998       46                                   A Scanner Darkly   \n",
       "999      885  The Tipping Point: How Little Things Can Make ...   \n",
       "\n",
       "                       author    rating  reviews_count  \n",
       "0             Maureen Johnson  4.666667            3.0  \n",
       "1                John Grisham  4.000000            3.0  \n",
       "2                  Pat Conroy  4.142857            3.0  \n",
       "3    T.S. Eliot/Michael North  3.500000            2.0  \n",
       "4                 Bill Bryson  2.500000            2.0  \n",
       "..                        ...       ...            ...  \n",
       "995            Jon Kabat-Zinn  5.000000            2.0  \n",
       "996               Erik Larson  2.500000            2.0  \n",
       "997           Margaret Atwood  4.000000            2.0  \n",
       "998            Philip K. Dick  3.666667            3.0  \n",
       "999          Malcolm Gladwell  3.818182            5.0  \n",
       "\n",
       "[1000 rows x 5 columns]"
      ]
     },
     "execution_count": 10,
     "metadata": {},
     "output_type": "execute_result"
    }
   ],
   "source": [
    "query_2 = '''SELECT\n",
    "                  rat.book_id AS book_id,\n",
    "                  rat.title AS title,\n",
    "                  rat.author AS author,\n",
    "                  rat.rating AS rating,\n",
    "                  rev.reviews_count AS reviews_count\n",
    "             FROM\n",
    "            (SELECT\n",
    "                  books.book_id AS book_id,\n",
    "                  books.title AS title,\n",
    "                  authors.author AS author,\n",
    "                  AVG(ratings.rating) AS rating\n",
    "              FROM\n",
    "                  books\n",
    "                  LEFT JOIN authors ON authors.author_id = books.author_id\n",
    "                  LEFT JOIN ratings ON ratings.book_id = books.book_id\n",
    "              GROUP BY\n",
    "                  books.book_id,\n",
    "                  books.title,\n",
    "                  authors.author) AS rat\n",
    "                  \n",
    "              LEFT JOIN \n",
    "                  (SELECT\n",
    "                       book_id,\n",
    "                       COUNT(DISTINCT review_id) AS reviews_count\n",
    "                    FROM\n",
    "                        reviews\n",
    "                    GROUP BY \n",
    "                       book_id) AS rev\n",
    "               ON rev.book_id =rat.book_id\n",
    "                            ;    \n",
    "                         \n",
    "          '''\n",
    "pd.io.sql.read_sql(query_2, con = engine)"
   ]
  },
  {
   "cell_type": "markdown",
   "metadata": {},
   "source": [
    "ВЫВОД:\n",
    "\n",
    "В результате запроса выведены данные, где для каждой из 1000 книг приведены идентификатор книги,  наименование, автор,  количество обзоров и средняя оценка."
   ]
  },
  {
   "cell_type": "markdown",
   "metadata": {},
   "source": [
    "<a href = '#section1'>Вернуться к оглавлению</a>\n",
    "</div>"
   ]
  },
  {
   "cell_type": "markdown",
   "metadata": {},
   "source": [
    "<a class=\"ancor\" id=\"step_5\"></a>\n",
    "## Определите издательство, которое выпустило наибольшее число книг толще 50 страниц — так вы исключите из анализа брошюры"
   ]
  },
  {
   "cell_type": "code",
   "execution_count": 11,
   "metadata": {},
   "outputs": [
    {
     "data": {
      "text/html": [
       "<div>\n",
       "<style scoped>\n",
       "    .dataframe tbody tr th:only-of-type {\n",
       "        vertical-align: middle;\n",
       "    }\n",
       "\n",
       "    .dataframe tbody tr th {\n",
       "        vertical-align: top;\n",
       "    }\n",
       "\n",
       "    .dataframe thead th {\n",
       "        text-align: right;\n",
       "    }\n",
       "</style>\n",
       "<table border=\"1\" class=\"dataframe\">\n",
       "  <thead>\n",
       "    <tr style=\"text-align: right;\">\n",
       "      <th></th>\n",
       "      <th>publisher_id</th>\n",
       "      <th>publisher</th>\n",
       "      <th>book_cnt</th>\n",
       "    </tr>\n",
       "  </thead>\n",
       "  <tbody>\n",
       "    <tr>\n",
       "      <td>0</td>\n",
       "      <td>212</td>\n",
       "      <td>Penguin Books</td>\n",
       "      <td>42</td>\n",
       "    </tr>\n",
       "  </tbody>\n",
       "</table>\n",
       "</div>"
      ],
      "text/plain": [
       "   publisher_id      publisher  book_cnt\n",
       "0           212  Penguin Books        42"
      ]
     },
     "execution_count": 11,
     "metadata": {},
     "output_type": "execute_result"
    }
   ],
   "source": [
    "query_3 = ''' SELECT\n",
    "                  books.publisher_id AS publisher_id,\n",
    "                  publishers.publisher AS publisher,\n",
    "                  COUNT (books.book_id) AS book_cnt\n",
    "              FROM\n",
    "                  books\n",
    "                  INNER JOIN publishers ON publishers.publisher_id = books.publisher_id\n",
    "              WHERE \n",
    "                  books.num_pages>50\n",
    "              GROUP BY\n",
    "                  books.publisher_id,\n",
    "                  publishers.publisher\n",
    "              ORDER BY\n",
    "                  book_cnt DESC\n",
    "              LIMIT 1\n",
    "                            ;    \n",
    "                         \n",
    "          '''\n",
    "pd.io.sql.read_sql(query_3, con = engine)"
   ]
  },
  {
   "cell_type": "markdown",
   "metadata": {},
   "source": [
    "ВЫВОД:\n",
    "\n",
    "Издательство Penguin Booksе выпустило наибольшее число книг, исключая брошюры, по сравнению с другими издательствами."
   ]
  },
  {
   "cell_type": "markdown",
   "metadata": {},
   "source": [
    "<a href = '#section1'>Вернуться к оглавлению</a>\n",
    "</div>"
   ]
  },
  {
   "cell_type": "markdown",
   "metadata": {},
   "source": [
    "<a class=\"ancor\" id=\"step_6\"></a>\n",
    "## Определите автора с самой высокой оценкой книг - учитывайте только книги с 50 и более оценками"
   ]
  },
  {
   "cell_type": "code",
   "execution_count": 12,
   "metadata": {},
   "outputs": [
    {
     "data": {
      "text/html": [
       "<div>\n",
       "<style scoped>\n",
       "    .dataframe tbody tr th:only-of-type {\n",
       "        vertical-align: middle;\n",
       "    }\n",
       "\n",
       "    .dataframe tbody tr th {\n",
       "        vertical-align: top;\n",
       "    }\n",
       "\n",
       "    .dataframe thead th {\n",
       "        text-align: right;\n",
       "    }\n",
       "</style>\n",
       "<table border=\"1\" class=\"dataframe\">\n",
       "  <thead>\n",
       "    <tr style=\"text-align: right;\">\n",
       "      <th></th>\n",
       "      <th>author</th>\n",
       "      <th>autor_avg</th>\n",
       "    </tr>\n",
       "  </thead>\n",
       "  <tbody>\n",
       "    <tr>\n",
       "      <td>0</td>\n",
       "      <td>J.K. Rowling/Mary GrandPré</td>\n",
       "      <td>4.283844</td>\n",
       "    </tr>\n",
       "  </tbody>\n",
       "</table>\n",
       "</div>"
      ],
      "text/plain": [
       "                       author  autor_avg\n",
       "0  J.K. Rowling/Mary GrandPré   4.283844"
      ]
     },
     "execution_count": 12,
     "metadata": {},
     "output_type": "execute_result"
    }
   ],
   "source": [
    "query_4 = ''' SELECT \n",
    "                  A.author AS author,\n",
    "                  AVG(A.rating_avg) AS autor_avg\n",
    "              FROM\n",
    "             (SELECT\n",
    "                  books.book_id AS book_id,\n",
    "                  books.title AS title,\n",
    "                  authors.author AS author,\n",
    "                  AVG(ratings.rating) as rating_avg\n",
    "              FROM\n",
    "                  books\n",
    "                  INNER JOIN authors ON authors.author_id = books.author_id\n",
    "                  INNER JOIN ratings ON ratings.book_id = books.book_id\n",
    "              GROUP BY\n",
    "                  books.book_id,\n",
    "                  books.title,\n",
    "                  authors.author\n",
    "              HAVING COUNT(ratings.rating_id) >= 50\n",
    "              ORDER BY\n",
    "                  rating_avg DESC) AS A\n",
    "              GROUP BY\n",
    "                    \n",
    "                    A.author\n",
    "                   \n",
    "              ORDER BY\n",
    "                    autor_avg DESC\n",
    "              LIMIT 1;    \n",
    "                         \n",
    "          '''\n",
    "pd.io.sql.read_sql(query_4, con = engine)"
   ]
  },
  {
   "cell_type": "markdown",
   "metadata": {},
   "source": [
    "ВЫВОД:\n",
    "\n",
    "J.K. Rowling/Mary GrandPré -  автор с самой высокой оценкой книг, если учитывать только книги с 50 и более оценками."
   ]
  },
  {
   "cell_type": "markdown",
   "metadata": {},
   "source": [
    "<a href = '#section1'>Вернуться к оглавлению</a>\n",
    "</div>"
   ]
  },
  {
   "cell_type": "markdown",
   "metadata": {},
   "source": [
    "<a class=\"ancor\" id=\"step_7\"></a>\n",
    "## Посчитайте среднее количество обзоров от пользователей, которые поставили больше 50 оценок."
   ]
  },
  {
   "cell_type": "code",
   "execution_count": 14,
   "metadata": {},
   "outputs": [
    {
     "data": {
      "text/html": [
       "<div>\n",
       "<style scoped>\n",
       "    .dataframe tbody tr th:only-of-type {\n",
       "        vertical-align: middle;\n",
       "    }\n",
       "\n",
       "    .dataframe tbody tr th {\n",
       "        vertical-align: top;\n",
       "    }\n",
       "\n",
       "    .dataframe thead th {\n",
       "        text-align: right;\n",
       "    }\n",
       "</style>\n",
       "<table border=\"1\" class=\"dataframe\">\n",
       "  <thead>\n",
       "    <tr style=\"text-align: right;\">\n",
       "      <th></th>\n",
       "      <th>avg_rev</th>\n",
       "    </tr>\n",
       "  </thead>\n",
       "  <tbody>\n",
       "    <tr>\n",
       "      <td>0</td>\n",
       "      <td>24.333333</td>\n",
       "    </tr>\n",
       "  </tbody>\n",
       "</table>\n",
       "</div>"
      ],
      "text/plain": [
       "     avg_rev\n",
       "0  24.333333"
      ]
     },
     "execution_count": 14,
     "metadata": {},
     "output_type": "execute_result"
    }
   ],
   "source": [
    "query_5 = ''' SELECT \n",
    "                  AVG(R.cnt_rev) AS avg_rev\n",
    "              FROM\n",
    "             (SELECT\n",
    "                  U.username AS username,\n",
    "                  COUNT(reviews.review_id) AS cnt_rev\n",
    "              FROM   \n",
    "             (SELECT\n",
    "                 username,\n",
    "                 COUNT(rating_id) AS cnt\n",
    "              FROM\n",
    "                  ratings\n",
    "              GROUP BY \n",
    "                  username                \n",
    "              HAVING \n",
    "                  COUNT(rating_id) > 50) AS U\n",
    "              INNER JOIN reviews ON  reviews.username = U.username\n",
    "              GROUP BY \n",
    "                  U.username) AS R;    \n",
    "                         \n",
    "          '''\n",
    "pd.io.sql.read_sql(query_5, con = engine)\n",
    "        "
   ]
  },
  {
   "cell_type": "markdown",
   "metadata": {},
   "source": [
    "ВЫВОД:\n",
    "\n",
    "В среднем пользователи, которые поставили больше 50 оценок, сделали 24 обзора.¶"
   ]
  },
  {
   "cell_type": "markdown",
   "metadata": {},
   "source": [
    "<a href = '#section1'>Вернуться к оглавлению</a>\n",
    "</div>"
   ]
  }
 ],
 "metadata": {
  "ExecuteTimeLog": [
   {
    "duration": 560,
    "start_time": "2021-07-14T18:00:34.234Z"
   },
   {
    "duration": 27,
    "start_time": "2021-07-14T18:00:36.669Z"
   },
   {
    "duration": 2270,
    "start_time": "2021-07-14T18:01:07.549Z"
   },
   {
    "duration": 63,
    "start_time": "2021-07-14T18:01:27.661Z"
   },
   {
    "duration": 238,
    "start_time": "2021-07-14T18:02:15.594Z"
   },
   {
    "duration": 66,
    "start_time": "2021-07-14T18:02:23.793Z"
   },
   {
    "duration": 65,
    "start_time": "2021-07-14T18:03:08.293Z"
   },
   {
    "duration": 70,
    "start_time": "2021-07-14T18:04:06.889Z"
   },
   {
    "duration": 70,
    "start_time": "2021-07-14T18:05:55.874Z"
   },
   {
    "duration": 71,
    "start_time": "2021-07-14T18:06:40.578Z"
   },
   {
    "duration": 69,
    "start_time": "2021-07-14T18:08:37.337Z"
   },
   {
    "duration": 113,
    "start_time": "2021-07-14T18:11:05.214Z"
   },
   {
    "duration": 71,
    "start_time": "2021-07-14T18:16:41.099Z"
   },
   {
    "duration": 289,
    "start_time": "2021-07-14T18:19:40.902Z"
   },
   {
    "duration": 74,
    "start_time": "2021-07-14T18:19:48.866Z"
   },
   {
    "duration": 73,
    "start_time": "2021-07-14T18:22:37.115Z"
   },
   {
    "duration": 72,
    "start_time": "2021-07-14T18:25:49.540Z"
   },
   {
    "duration": 2670,
    "start_time": "2021-07-14T18:30:53.434Z"
   },
   {
    "duration": 25,
    "start_time": "2021-07-14T18:30:56.106Z"
   },
   {
    "duration": 3600,
    "start_time": "2021-07-14T18:30:56.133Z"
   },
   {
    "duration": 252,
    "start_time": "2021-07-14T18:30:59.735Z"
   },
   {
    "duration": 71,
    "start_time": "2021-07-14T18:30:59.988Z"
   },
   {
    "duration": 70,
    "start_time": "2021-07-14T18:31:00.061Z"
   },
   {
    "duration": 70,
    "start_time": "2021-07-14T18:31:00.133Z"
   },
   {
    "duration": 70,
    "start_time": "2021-07-14T18:31:00.206Z"
   },
   {
    "duration": 70,
    "start_time": "2021-07-14T18:31:00.279Z"
   },
   {
    "duration": 113,
    "start_time": "2021-07-14T18:31:00.351Z"
   },
   {
    "duration": 73,
    "start_time": "2021-07-14T18:31:00.465Z"
   },
   {
    "duration": 77,
    "start_time": "2021-07-14T18:31:00.539Z"
   },
   {
    "duration": 75,
    "start_time": "2021-07-14T18:31:00.618Z"
   },
   {
    "duration": 834,
    "start_time": "2021-07-15T11:56:35.566Z"
   },
   {
    "duration": 35,
    "start_time": "2021-07-15T11:56:36.403Z"
   },
   {
    "duration": 4799,
    "start_time": "2021-07-15T11:56:36.441Z"
   },
   {
    "duration": 68,
    "start_time": "2021-07-15T11:56:41.243Z"
   },
   {
    "duration": 15,
    "start_time": "2021-07-15T11:56:41.313Z"
   },
   {
    "duration": 20,
    "start_time": "2021-07-15T11:56:41.331Z"
   },
   {
    "duration": 18,
    "start_time": "2021-07-15T11:56:41.354Z"
   },
   {
    "duration": 36,
    "start_time": "2021-07-15T11:56:41.377Z"
   },
   {
    "duration": 15,
    "start_time": "2021-07-15T11:56:41.417Z"
   },
   {
    "duration": 35,
    "start_time": "2021-07-15T11:56:41.434Z"
   },
   {
    "duration": 33,
    "start_time": "2021-07-15T11:56:41.472Z"
   },
   {
    "duration": 20,
    "start_time": "2021-07-15T11:56:41.507Z"
   },
   {
    "duration": 23,
    "start_time": "2021-07-15T11:56:41.529Z"
   },
   {
    "duration": 74,
    "start_time": "2021-07-15T12:33:27.244Z"
   },
   {
    "duration": 637,
    "start_time": "2021-07-15T12:33:43.282Z"
   },
   {
    "duration": 24,
    "start_time": "2021-07-15T12:33:43.920Z"
   },
   {
    "duration": 2416,
    "start_time": "2021-07-15T12:33:43.946Z"
   },
   {
    "duration": 286,
    "start_time": "2021-07-15T12:33:46.365Z"
   },
   {
    "duration": 74,
    "start_time": "2021-07-15T12:33:46.653Z"
   },
   {
    "duration": 76,
    "start_time": "2021-07-15T12:33:46.729Z"
   },
   {
    "duration": 75,
    "start_time": "2021-07-15T12:33:46.807Z"
   },
   {
    "duration": 75,
    "start_time": "2021-07-15T12:33:46.884Z"
   },
   {
    "duration": 74,
    "start_time": "2021-07-15T12:33:46.961Z"
   },
   {
    "duration": 119,
    "start_time": "2021-07-15T12:33:47.037Z"
   },
   {
    "duration": 76,
    "start_time": "2021-07-15T12:33:47.158Z"
   },
   {
    "duration": 85,
    "start_time": "2021-07-15T12:33:47.235Z"
   },
   {
    "duration": 76,
    "start_time": "2021-07-15T12:33:47.321Z"
   },
   {
    "duration": 76,
    "start_time": "2021-07-15T12:34:36.142Z"
   }
  ],
  "kernelspec": {
   "display_name": "Python 3",
   "language": "python",
   "name": "python3"
  },
  "language_info": {
   "codemirror_mode": {
    "name": "ipython",
    "version": 3
   },
   "file_extension": ".py",
   "mimetype": "text/x-python",
   "name": "python",
   "nbconvert_exporter": "python",
   "pygments_lexer": "ipython3",
   "version": "3.7.8"
  },
  "toc": {
   "base_numbering": 1,
   "nav_menu": {},
   "number_sections": true,
   "sideBar": true,
   "skip_h1_title": true,
   "title_cell": "Table of Contents",
   "title_sidebar": "Contents",
   "toc_cell": false,
   "toc_position": {},
   "toc_section_display": true,
   "toc_window_display": false
  }
 },
 "nbformat": 4,
 "nbformat_minor": 2
}
